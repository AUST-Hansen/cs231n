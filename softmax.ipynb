{
 "cells": [
  {
   "cell_type": "markdown",
   "metadata": {},
   "source": [
    "# Softmax exercise\n",
    "\n",
    "*Complete and hand in this completed worksheet (including its outputs and any supporting code outside of the worksheet) with your assignment submission. For more details see the [assignments page](http://vision.stanford.edu/teaching/cs231n/assignments.html) on the course website.*\n",
    "\n",
    "This exercise is analogous to the SVM exercise. You will:\n",
    "\n",
    "- implement a fully-vectorized **loss function** for the Softmax classifier\n",
    "- implement the fully-vectorized expression for its **analytic gradient**\n",
    "- **check your implementation** with numerical gradient\n",
    "- use a validation set to **tune the learning rate and regularization** strength\n",
    "- **optimize** the loss function with **SGD**\n",
    "- **visualize** the final learned weights\n"
   ]
  },
  {
   "cell_type": "code",
   "execution_count": 1,
   "metadata": {
    "collapsed": false
   },
   "outputs": [],
   "source": [
    "import random\n",
    "import numpy as np\n",
    "from cs231n.data_utils import load_CIFAR10\n",
    "import matplotlib.pyplot as plt\n",
    "%matplotlib inline\n",
    "plt.rcParams['figure.figsize'] = (10.0, 8.0) # set default size of plots\n",
    "plt.rcParams['image.interpolation'] = 'nearest'\n",
    "plt.rcParams['image.cmap'] = 'gray'\n",
    "\n",
    "# for auto-reloading extenrnal modules\n",
    "# see http://stackoverflow.com/questions/1907993/autoreload-of-modules-in-ipython\n",
    "%load_ext autoreload\n",
    "%autoreload 2"
   ]
  },
  {
   "cell_type": "code",
   "execution_count": 2,
   "metadata": {
    "collapsed": false
   },
   "outputs": [
    {
     "name": "stdout",
     "output_type": "stream",
     "text": [
      "Train data shape:  (49000, 3073)\n",
      "Train labels shape:  (49000,)\n",
      "Validation data shape:  (1000, 3073)\n",
      "Validation labels shape:  (1000,)\n",
      "Test data shape:  (1000, 3073)\n",
      "Test labels shape:  (1000,)\n",
      "dev data shape:  (500, 3073)\n",
      "dev labels shape:  (500,)\n"
     ]
    }
   ],
   "source": [
    "def get_CIFAR10_data(num_training=49000, num_validation=1000, num_test=1000, num_dev=500):\n",
    "  \"\"\"\n",
    "  Load the CIFAR-10 dataset from disk and perform preprocessing to prepare\n",
    "  it for the linear classifier. These are the same steps as we used for the\n",
    "  SVM, but condensed to a single function.  \n",
    "  \"\"\"\n",
    "  # Load the raw CIFAR-10 data\n",
    "  cifar10_dir = 'cs231n/datasets/cifar-10-batches-py'\n",
    "  X_train, y_train, X_test, y_test = load_CIFAR10(cifar10_dir)\n",
    "  \n",
    "  # subsample the data\n",
    "  mask = range(num_training, num_training + num_validation)\n",
    "  X_val = X_train[mask]\n",
    "  y_val = y_train[mask]\n",
    "  mask = range(num_training)\n",
    "  X_train = X_train[mask]\n",
    "  y_train = y_train[mask]\n",
    "  mask = range(num_test)\n",
    "  X_test = X_test[mask]\n",
    "  y_test = y_test[mask]\n",
    "  mask = np.random.choice(num_training, num_dev, replace=False)\n",
    "  X_dev = X_train[mask]\n",
    "  y_dev = y_train[mask]\n",
    "  \n",
    "  # Preprocessing: reshape the image data into rows\n",
    "  X_train = np.reshape(X_train, (X_train.shape[0], -1))\n",
    "  X_val = np.reshape(X_val, (X_val.shape[0], -1))\n",
    "  X_test = np.reshape(X_test, (X_test.shape[0], -1))\n",
    "  X_dev = np.reshape(X_dev, (X_dev.shape[0], -1))\n",
    "  \n",
    "  # Normalize the data: subtract the mean image\n",
    "  mean_image = np.mean(X_train, axis = 0)\n",
    "  X_train -= mean_image\n",
    "  X_val -= mean_image\n",
    "  X_test -= mean_image\n",
    "  X_dev -= mean_image\n",
    "  \n",
    "  # add bias dimension and transform into columns\n",
    "  X_train = np.hstack([X_train, np.ones((X_train.shape[0], 1))])\n",
    "  X_val = np.hstack([X_val, np.ones((X_val.shape[0], 1))])\n",
    "  X_test = np.hstack([X_test, np.ones((X_test.shape[0], 1))])\n",
    "  X_dev = np.hstack([X_dev, np.ones((X_dev.shape[0], 1))])\n",
    "  \n",
    "  return X_train, y_train, X_val, y_val, X_test, y_test, X_dev, y_dev\n",
    "\n",
    "\n",
    "# Invoke the above function to get our data.\n",
    "X_train, y_train, X_val, y_val, X_test, y_test, X_dev, y_dev = get_CIFAR10_data()\n",
    "print 'Train data shape: ', X_train.shape\n",
    "print 'Train labels shape: ', y_train.shape\n",
    "print 'Validation data shape: ', X_val.shape\n",
    "print 'Validation labels shape: ', y_val.shape\n",
    "print 'Test data shape: ', X_test.shape\n",
    "print 'Test labels shape: ', y_test.shape\n",
    "print 'dev data shape: ', X_dev.shape\n",
    "print 'dev labels shape: ', y_dev.shape"
   ]
  },
  {
   "cell_type": "markdown",
   "metadata": {},
   "source": [
    "## Softmax Classifier\n",
    "\n",
    "Your code for this section will all be written inside **cs231n/classifiers/softmax.py**. \n"
   ]
  },
  {
   "cell_type": "code",
   "execution_count": 4,
   "metadata": {
    "collapsed": false
   },
   "outputs": [
    {
     "name": "stdout",
     "output_type": "stream",
     "text": [
      "loss: 2.325485\n",
      "sanity check: 2.302585\n"
     ]
    }
   ],
   "source": [
    "# First implement the naive softmax loss function with nested loops.\n",
    "# Open the file cs231n/classifiers/softmax.py and implement the\n",
    "# softmax_loss_naive function.\n",
    "\n",
    "from cs231n.classifiers.softmax import softmax_loss_naive\n",
    "import time\n",
    "\n",
    "# Generate a random softmax weight matrix and use it to compute the loss.\n",
    "W = np.random.randn(3073, 10) * 0.0001\n",
    "loss, grad = softmax_loss_naive(W, X_dev, y_dev, 0.0)\n",
    "\n",
    "# As a rough sanity check, our loss should be something close to -log(0.1).\n",
    "print 'loss: %f' % loss\n",
    "print 'sanity check: %f' % (-np.log(0.1))"
   ]
  },
  {
   "cell_type": "markdown",
   "metadata": {},
   "source": [
    "## Inline Question 1:\n",
    "Why do we expect our loss to be close to -log(0.1)? Explain briefly.**\n",
    "\n",
    "**Your answer:** *10 classes*\n"
   ]
  },
  {
   "cell_type": "code",
   "execution_count": 74,
   "metadata": {
    "collapsed": false
   },
   "outputs": [
    {
     "name": "stdout",
     "output_type": "stream",
     "text": [
      "numerical: 2.927425 analytic: 2.927425, relative error: 1.283721e-08\n",
      "numerical: 1.506561 analytic: 1.506561, relative error: 4.610461e-08\n",
      "numerical: 0.497528 analytic: 0.497528, relative error: 1.365711e-07\n",
      "numerical: 0.228315 analytic: 0.228314, relative error: 1.747579e-08\n",
      "numerical: 0.505368 analytic: 0.505368, relative error: 4.261659e-08\n",
      "numerical: 0.073456 analytic: 0.073456, relative error: 1.262304e-07\n",
      "numerical: -0.631993 analytic: -0.631993, relative error: 4.084707e-08\n",
      "numerical: -1.441809 analytic: -1.441809, relative error: 3.881505e-08\n",
      "numerical: -1.231842 analytic: -1.231842, relative error: 4.213187e-08\n",
      "numerical: 1.875426 analytic: 1.875426, relative error: 3.864552e-08\n",
      "numerical: 1.556680 analytic: 1.556680, relative error: 4.762873e-08\n",
      "numerical: -0.008309 analytic: -0.008309, relative error: 8.886339e-09\n",
      "numerical: -0.233505 analytic: -0.233506, relative error: 2.262889e-07\n",
      "numerical: -5.766691 analytic: -5.766691, relative error: 2.142627e-09\n",
      "numerical: 0.441905 analytic: 0.441905, relative error: 6.623670e-08\n",
      "numerical: 2.869230 analytic: 2.869230, relative error: 8.805613e-09\n",
      "numerical: -1.696899 analytic: -1.696899, relative error: 2.575850e-08\n",
      "numerical: -0.851884 analytic: -0.851884, relative error: 2.658929e-08\n",
      "numerical: 1.836579 analytic: 1.836579, relative error: 1.593406e-08\n",
      "numerical: -3.293726 analytic: -3.293726, relative error: 1.379019e-08\n"
     ]
    }
   ],
   "source": [
    "# Complete the implementation of softmax_loss_naive and implement a (naive)\n",
    "# version of the gradient that uses nested loops.\n",
    "loss, grad = softmax_loss_naive(W, X_dev, y_dev, 0.0)\n",
    "\n",
    "# As we did for the SVM, use numeric gradient checking as a debugging tool.\n",
    "# The numeric gradient should be close to the analytic gradient.\n",
    "from cs231n.gradient_check import grad_check_sparse\n",
    "f = lambda w: softmax_loss_naive(w, X_dev, y_dev, 0.0)[0]\n",
    "grad_numerical = grad_check_sparse(f, W, grad, 10)\n",
    "\n",
    "# similar to SVM case, do another gradient check with regularization\n",
    "loss, grad = softmax_loss_naive(W, X_dev, y_dev, 1e2)\n",
    "f = lambda w: softmax_loss_naive(w, X_dev, y_dev, 1e2)[0]\n",
    "grad_numerical = grad_check_sparse(f, W, grad, 10)"
   ]
  },
  {
   "cell_type": "code",
   "execution_count": 76,
   "metadata": {
    "collapsed": false
   },
   "outputs": [
    {
     "name": "stdout",
     "output_type": "stream",
     "text": [
      "naive loss: 2.325485e+00 computed in 0.117453s\n",
      "vectorized loss: 2.325485e+00 computed in 0.181334s\n",
      "Loss difference: 0.000000\n",
      "Gradient difference: 0.000000\n"
     ]
    }
   ],
   "source": [
    "# Now that we have a naive implementation of the softmax loss function and its gradient,\n",
    "# implement a vectorized version in softmax_loss_vectorized.\n",
    "# The two versions should compute the same results, but the vectorized version should be\n",
    "# much faster.\n",
    "tic = time.time()\n",
    "loss_naive, grad_naive = softmax_loss_naive(W, X_dev, y_dev, 0.00001)\n",
    "toc = time.time()\n",
    "print 'naive loss: %e computed in %fs' % (loss_naive, toc - tic)\n",
    "\n",
    "from cs231n.classifiers.softmax import softmax_loss_vectorized\n",
    "tic = time.time()\n",
    "loss_vectorized, grad_vectorized = softmax_loss_vectorized(W, X_dev, y_dev, 0.00001)\n",
    "toc = time.time()\n",
    "print 'vectorized loss: %e computed in %fs' % (loss_vectorized, toc - tic)\n",
    "\n",
    "# As we did for the SVM, we use the Frobenius norm to compare the two versions\n",
    "# of the gradient.\n",
    "grad_difference = np.linalg.norm(grad_naive - grad_vectorized, ord='fro')\n",
    "print 'Loss difference: %f' % np.abs(loss_naive - loss_vectorized)\n",
    "print 'Gradient difference: %f' % grad_difference"
   ]
  },
  {
   "cell_type": "code",
   "execution_count": 90,
   "metadata": {
    "collapsed": false
   },
   "outputs": [
    {
     "name": "stdout",
     "output_type": "stream",
     "text": [
      "iteration 0 / 500: loss 1533.839074\n",
      "iteration 100 / 500: loss 206.458439\n",
      "iteration 200 / 500: loss 29.431522\n",
      "iteration 300 / 500: loss 5.790371\n",
      "iteration 400 / 500: loss 2.615075\n",
      "{(9.9999999999999995e-08, 50000.0): (0.30891836734693878, 0.32000000000000001)}\n",
      "iteration 0 / 500: loss 15271.559080\n",
      "iteration 100 / 500: loss 2.277062\n",
      "iteration 200 / 500: loss 2.276833\n",
      "iteration 300 / 500: loss 2.262379\n",
      "iteration 400 / 500: loss 2.279343\n",
      "{(9.9999999999999995e-08, 50000.0): (0.30891836734693878, 0.32000000000000001), (9.9999999999999995e-08, 500000.0): (0.25865306122448978, 0.26600000000000001)}\n",
      "iteration 0 / 500: loss 153063.773243\n",
      "iteration 100 / 500: loss 2.301809\n",
      "iteration 200 / 500: loss 2.301885\n",
      "iteration 300 / 500: loss 2.300458\n",
      "iteration 400 / 500: loss 2.300612\n",
      "{(9.9999999999999995e-08, 50000.0): (0.30891836734693878, 0.32000000000000001), (9.9999999999999995e-08, 5000000.0): (0.24118367346938777, 0.248), (9.9999999999999995e-08, 500000.0): (0.25865306122448978, 0.26600000000000001)}\n",
      "iteration 0 / 500: loss 1538389.611622\n",
      "iteration 100 / 500: loss inf\n",
      "iteration 200 / 500: loss inf\n",
      "iteration 300 / 500: loss inf\n",
      "iteration 400 / 500: loss nan\n",
      "{(9.9999999999999995e-08, 50000.0): (0.30891836734693878, 0.32000000000000001), (9.9999999999999995e-08, 5000000.0): (0.24118367346938777, 0.248), (9.9999999999999995e-08, 50000000.0): (0.10026530612244898, 0.086999999999999994), (9.9999999999999995e-08, 500000.0): (0.25865306122448978, 0.26600000000000001)}\n",
      "iteration 0 / 500: loss 1530.237305\n",
      "iteration 100 / 500: loss 28.824336\n",
      "iteration 200 / 500: loss 2.616096\n",
      "iteration 300 / 500: loss 2.162430\n",
      "iteration 400 / 500: loss 2.140011\n",
      "{(1.9999999999999999e-07, 50000.0): (0.3092448979591837, 0.316), (9.9999999999999995e-08, 50000.0): (0.30891836734693878, 0.32000000000000001), (9.9999999999999995e-08, 5000000.0): (0.24118367346938777, 0.248), (9.9999999999999995e-08, 50000000.0): (0.10026530612244898, 0.086999999999999994), (9.9999999999999995e-08, 500000.0): (0.25865306122448978, 0.26600000000000001)}\n",
      "iteration 0 / 500: loss 15280.947014\n",
      "iteration 100 / 500: loss 2.257921\n",
      "iteration 200 / 500: loss 2.267655\n",
      "iteration 300 / 500: loss 2.250400\n",
      "iteration 400 / 500: loss 2.264091\n",
      "{(1.9999999999999999e-07, 500000.0): (0.25451020408163266, 0.27400000000000002), (9.9999999999999995e-08, 50000000.0): (0.10026530612244898, 0.086999999999999994), (1.9999999999999999e-07, 50000.0): (0.3092448979591837, 0.316), (9.9999999999999995e-08, 500000.0): (0.25865306122448978, 0.26600000000000001), (9.9999999999999995e-08, 50000.0): (0.30891836734693878, 0.32000000000000001), (9.9999999999999995e-08, 5000000.0): (0.24118367346938777, 0.248)}\n",
      "iteration 0 / 500: loss 153422.540232\n",
      "iteration 100 / 500: loss 155171.267363\n",
      "iteration 200 / 500: loss 160286.499831\n",
      "iteration 300 / 500: loss 169637.679013\n",
      "iteration 400 / 500: loss 183816.268370\n",
      "{(1.9999999999999999e-07, 500000.0): (0.25451020408163266, 0.27400000000000002), (9.9999999999999995e-08, 50000000.0): (0.10026530612244898, 0.086999999999999994), (1.9999999999999999e-07, 50000.0): (0.3092448979591837, 0.316), (1.9999999999999999e-07, 5000000.0): (0.095693877551020406, 0.089999999999999997), (9.9999999999999995e-08, 500000.0): (0.25865306122448978, 0.26600000000000001), (9.9999999999999995e-08, 50000.0): (0.30891836734693878, 0.32000000000000001), (9.9999999999999995e-08, 5000000.0): (0.24118367346938777, 0.248)}\n",
      "iteration 0 / 500: loss 1533069.051775\n",
      "iteration 100 / 500: loss inf\n",
      "iteration 200 / 500: loss inf\n",
      "iteration 300 / 500: loss nan\n",
      "iteration 400 / 500: loss nan\n",
      "{(1.9999999999999999e-07, 500000.0): (0.25451020408163266, 0.27400000000000002), (9.9999999999999995e-08, 50000000.0): (0.10026530612244898, 0.086999999999999994), (1.9999999999999999e-07, 50000000.0): (0.10026530612244898, 0.086999999999999994), (1.9999999999999999e-07, 50000.0): (0.3092448979591837, 0.316), (1.9999999999999999e-07, 5000000.0): (0.095693877551020406, 0.089999999999999997), (9.9999999999999995e-08, 500000.0): (0.25865306122448978, 0.26600000000000001), (9.9999999999999995e-08, 50000.0): (0.30891836734693878, 0.32000000000000001), (9.9999999999999995e-08, 5000000.0): (0.24118367346938777, 0.248)}\n",
      "iteration 0 / 500: loss 1546.300024\n",
      "iteration 100 / 500: loss 5.555594\n",
      "iteration 200 / 500: loss 2.170855\n",
      "iteration 300 / 500: loss 2.164417\n",
      "iteration 400 / 500: loss 2.108453\n",
      "{(1.9999999999999999e-07, 500000.0): (0.25451020408163266, 0.27400000000000002), (9.9999999999999995e-08, 50000000.0): (0.10026530612244898, 0.086999999999999994), (1.9999999999999999e-07, 50000000.0): (0.10026530612244898, 0.086999999999999994), (1.9999999999999999e-07, 50000.0): (0.3092448979591837, 0.316), (1.9999999999999999e-07, 5000000.0): (0.095693877551020406, 0.089999999999999997), (9.9999999999999995e-08, 500000.0): (0.25865306122448978, 0.26600000000000001), (2.9999999999999999e-07, 50000.0): (0.31095918367346936, 0.32400000000000001), (9.9999999999999995e-08, 50000.0): (0.30891836734693878, 0.32000000000000001), (9.9999999999999995e-08, 5000000.0): (0.24118367346938777, 0.248)}\n",
      "iteration 0 / 500: loss 15244.781650\n",
      "iteration 100 / 500: loss 2.262577\n",
      "iteration 200 / 500: loss 2.271272\n",
      "iteration 300 / 500: loss 2.263839\n",
      "iteration 400 / 500: loss 2.277138\n",
      "{(1.9999999999999999e-07, 500000.0): (0.25451020408163266, 0.27400000000000002), (9.9999999999999995e-08, 50000000.0): (0.10026530612244898, 0.086999999999999994), (1.9999999999999999e-07, 50000000.0): (0.10026530612244898, 0.086999999999999994), (1.9999999999999999e-07, 50000.0): (0.3092448979591837, 0.316), (1.9999999999999999e-07, 5000000.0): (0.095693877551020406, 0.089999999999999997), (9.9999999999999995e-08, 500000.0): (0.25865306122448978, 0.26600000000000001), (2.9999999999999999e-07, 50000.0): (0.31095918367346936, 0.32400000000000001), (9.9999999999999995e-08, 50000.0): (0.30891836734693878, 0.32000000000000001), (9.9999999999999995e-08, 5000000.0): (0.24118367346938777, 0.248), (2.9999999999999999e-07, 500000.0): (0.24071428571428571, 0.25900000000000001)}\n",
      "iteration 0 / 500: loss 156279.712778\n",
      "iteration 100 / 500: loss inf\n",
      "iteration 200 / 500: loss inf\n",
      "iteration 300 / 500: loss inf\n",
      "iteration 400 / 500: loss inf\n",
      "{(1.9999999999999999e-07, 500000.0): (0.25451020408163266, 0.27400000000000002), (9.9999999999999995e-08, 50000000.0): (0.10026530612244898, 0.086999999999999994), (1.9999999999999999e-07, 50000000.0): (0.10026530612244898, 0.086999999999999994), (1.9999999999999999e-07, 50000.0): (0.3092448979591837, 0.316), (1.9999999999999999e-07, 5000000.0): (0.095693877551020406, 0.089999999999999997), (9.9999999999999995e-08, 500000.0): (0.25865306122448978, 0.26600000000000001), (2.9999999999999999e-07, 50000.0): (0.31095918367346936, 0.32400000000000001), (2.9999999999999999e-07, 5000000.0): (0.091612244897959189, 0.108), (9.9999999999999995e-08, 50000.0): (0.30891836734693878, 0.32000000000000001), (9.9999999999999995e-08, 5000000.0): (0.24118367346938777, 0.248), (2.9999999999999999e-07, 500000.0): (0.24071428571428571, 0.25900000000000001)}\n",
      "iteration 0 / 500: loss 1518068.615671\n",
      "iteration 100 / 500: loss inf\n",
      "iteration 200 / 500: loss inf\n",
      "iteration 300 / 500: loss nan\n",
      "iteration 400 / 500: loss nan\n",
      "{(1.9999999999999999e-07, 500000.0): (0.25451020408163266, 0.27400000000000002), (9.9999999999999995e-08, 50000000.0): (0.10026530612244898, 0.086999999999999994), (1.9999999999999999e-07, 50000000.0): (0.10026530612244898, 0.086999999999999994), (2.9999999999999999e-07, 50000000.0): (0.10026530612244898, 0.086999999999999994), (1.9999999999999999e-07, 50000.0): (0.3092448979591837, 0.316), (1.9999999999999999e-07, 5000000.0): (0.095693877551020406, 0.089999999999999997), (9.9999999999999995e-08, 500000.0): (0.25865306122448978, 0.26600000000000001), (2.9999999999999999e-07, 50000.0): (0.31095918367346936, 0.32400000000000001), (2.9999999999999999e-07, 5000000.0): (0.091612244897959189, 0.108), (9.9999999999999995e-08, 50000.0): (0.30891836734693878, 0.32000000000000001), (9.9999999999999995e-08, 5000000.0): (0.24118367346938777, 0.248), (2.9999999999999999e-07, 500000.0): (0.24071428571428571, 0.25900000000000001)}\n",
      "iteration 0 / 500: loss 1537.464367\n",
      "iteration 100 / 500: loss 2.566829\n",
      "iteration 200 / 500: loss 2.173241\n",
      "iteration 300 / 500: loss 2.158602\n",
      "iteration 400 / 500: loss 2.149290\n",
      "{(3.9999999999999998e-07, 50000.0): (0.30065306122448981, 0.32400000000000001), (1.9999999999999999e-07, 500000.0): (0.25451020408163266, 0.27400000000000002), (9.9999999999999995e-08, 50000000.0): (0.10026530612244898, 0.086999999999999994), (1.9999999999999999e-07, 50000000.0): (0.10026530612244898, 0.086999999999999994), (2.9999999999999999e-07, 50000000.0): (0.10026530612244898, 0.086999999999999994), (1.9999999999999999e-07, 50000.0): (0.3092448979591837, 0.316), (1.9999999999999999e-07, 5000000.0): (0.095693877551020406, 0.089999999999999997), (9.9999999999999995e-08, 500000.0): (0.25865306122448978, 0.26600000000000001), (2.9999999999999999e-07, 50000.0): (0.31095918367346936, 0.32400000000000001), (2.9999999999999999e-07, 5000000.0): (0.091612244897959189, 0.108), (9.9999999999999995e-08, 50000.0): (0.30891836734693878, 0.32000000000000001), (9.9999999999999995e-08, 5000000.0): (0.24118367346938777, 0.248), (2.9999999999999999e-07, 500000.0): (0.24071428571428571, 0.25900000000000001)}\n",
      "iteration 0 / 500: loss 15619.831859\n",
      "iteration 100 / 500: loss 2.277985\n",
      "iteration 200 / 500: loss 2.277276\n",
      "iteration 300 / 500: loss 2.263666\n",
      "iteration 400 / 500: loss 2.276009\n",
      "{(3.9999999999999998e-07, 500000.0): (0.26324489795918365, 0.27500000000000002), (3.9999999999999998e-07, 50000.0): (0.30065306122448981, 0.32400000000000001), (1.9999999999999999e-07, 500000.0): (0.25451020408163266, 0.27400000000000002), (9.9999999999999995e-08, 50000000.0): (0.10026530612244898, 0.086999999999999994), (1.9999999999999999e-07, 50000000.0): (0.10026530612244898, 0.086999999999999994), (2.9999999999999999e-07, 50000000.0): (0.10026530612244898, 0.086999999999999994), (1.9999999999999999e-07, 50000.0): (0.3092448979591837, 0.316), (1.9999999999999999e-07, 5000000.0): (0.095693877551020406, 0.089999999999999997), (9.9999999999999995e-08, 500000.0): (0.25865306122448978, 0.26600000000000001), (2.9999999999999999e-07, 50000.0): (0.31095918367346936, 0.32400000000000001), (2.9999999999999999e-07, 5000000.0): (0.091612244897959189, 0.108), (9.9999999999999995e-08, 50000.0): (0.30891836734693878, 0.32000000000000001), (9.9999999999999995e-08, 5000000.0): (0.24118367346938777, 0.248), (2.9999999999999999e-07, 500000.0): (0.24071428571428571, 0.25900000000000001)}\n",
      "iteration 0 / 500: loss 152915.057025\n",
      "iteration 100 / 500: loss inf\n",
      "iteration 200 / 500: loss inf\n",
      "iteration 300 / 500: loss inf\n",
      "iteration 400 / 500: loss inf\n",
      "{(3.9999999999999998e-07, 5000000.0): (0.09893877551020408, 0.096000000000000002), (3.9999999999999998e-07, 500000.0): (0.26324489795918365, 0.27500000000000002), (3.9999999999999998e-07, 50000.0): (0.30065306122448981, 0.32400000000000001), (1.9999999999999999e-07, 500000.0): (0.25451020408163266, 0.27400000000000002), (9.9999999999999995e-08, 50000000.0): (0.10026530612244898, 0.086999999999999994), (1.9999999999999999e-07, 50000000.0): (0.10026530612244898, 0.086999999999999994), (2.9999999999999999e-07, 50000000.0): (0.10026530612244898, 0.086999999999999994), (1.9999999999999999e-07, 50000.0): (0.3092448979591837, 0.316), (1.9999999999999999e-07, 5000000.0): (0.095693877551020406, 0.089999999999999997), (9.9999999999999995e-08, 500000.0): (0.25865306122448978, 0.26600000000000001), (2.9999999999999999e-07, 50000.0): (0.31095918367346936, 0.32400000000000001), (2.9999999999999999e-07, 5000000.0): (0.091612244897959189, 0.108), (9.9999999999999995e-08, 50000.0): (0.30891836734693878, 0.32000000000000001), (9.9999999999999995e-08, 5000000.0): (0.24118367346938777, 0.248), (2.9999999999999999e-07, 500000.0): (0.24071428571428571, 0.25900000000000001)}\n",
      "iteration 0 / 500: loss 1528514.974471\n",
      "iteration 100 / 500: loss inf\n",
      "iteration 200 / 500: loss nan\n",
      "iteration 300 / 500: loss nan\n",
      "iteration 400 / 500: loss nan\n",
      "{(3.9999999999999998e-07, 5000000.0): (0.09893877551020408, 0.096000000000000002), (3.9999999999999998e-07, 500000.0): (0.26324489795918365, 0.27500000000000002), (3.9999999999999998e-07, 50000.0): (0.30065306122448981, 0.32400000000000001), (1.9999999999999999e-07, 500000.0): (0.25451020408163266, 0.27400000000000002), (9.9999999999999995e-08, 50000000.0): (0.10026530612244898, 0.086999999999999994), (1.9999999999999999e-07, 50000000.0): (0.10026530612244898, 0.086999999999999994), (2.9999999999999999e-07, 50000000.0): (0.10026530612244898, 0.086999999999999994), (1.9999999999999999e-07, 50000.0): (0.3092448979591837, 0.316), (1.9999999999999999e-07, 5000000.0): (0.095693877551020406, 0.089999999999999997), (3.9999999999999998e-07, 50000000.0): (0.10026530612244898, 0.086999999999999994), (9.9999999999999995e-08, 500000.0): (0.25865306122448978, 0.26600000000000001), (2.9999999999999999e-07, 50000.0): (0.31095918367346936, 0.32400000000000001), (2.9999999999999999e-07, 5000000.0): (0.091612244897959189, 0.108), (9.9999999999999995e-08, 50000.0): (0.30891836734693878, 0.32000000000000001), (9.9999999999999995e-08, 5000000.0): (0.24118367346938777, 0.248), (2.9999999999999999e-07, 500000.0): (0.24071428571428571, 0.25900000000000001)}\n",
      "iteration 0 / 500: loss 1538.355425\n",
      "iteration 100 / 500: loss 2.188911\n",
      "iteration 200 / 500: loss 2.142799\n",
      "iteration 300 / 500: loss 2.150872\n",
      "iteration 400 / 500: loss 2.158490\n",
      "{(3.9999999999999998e-07, 5000000.0): (0.09893877551020408, 0.096000000000000002), (3.9999999999999998e-07, 500000.0): (0.26324489795918365, 0.27500000000000002), (3.9999999999999998e-07, 50000.0): (0.30065306122448981, 0.32400000000000001), (1.9999999999999999e-07, 500000.0): (0.25451020408163266, 0.27400000000000002), (9.9999999999999995e-08, 50000000.0): (0.10026530612244898, 0.086999999999999994), (1.9999999999999999e-07, 50000000.0): (0.10026530612244898, 0.086999999999999994), (2.9999999999999999e-07, 50000000.0): (0.10026530612244898, 0.086999999999999994), (1.9999999999999999e-07, 50000.0): (0.3092448979591837, 0.316), (1.9999999999999999e-07, 5000000.0): (0.095693877551020406, 0.089999999999999997), (3.9999999999999998e-07, 50000000.0): (0.10026530612244898, 0.086999999999999994), (4.9999999999999998e-07, 50000.0): (0.29653061224489796, 0.311), (9.9999999999999995e-08, 500000.0): (0.25865306122448978, 0.26600000000000001), (2.9999999999999999e-07, 50000.0): (0.31095918367346936, 0.32400000000000001), (2.9999999999999999e-07, 5000000.0): (0.091612244897959189, 0.108), (9.9999999999999995e-08, 50000.0): (0.30891836734693878, 0.32000000000000001), (9.9999999999999995e-08, 5000000.0): (0.24118367346938777, 0.248), (2.9999999999999999e-07, 500000.0): (0.24071428571428571, 0.25900000000000001)}\n",
      "iteration 0 / 500: loss 15432.903801\n",
      "iteration 100 / 500: loss 2.267537\n",
      "iteration 200 / 500: loss 2.275753\n",
      "iteration 300 / 500: loss 2.287035\n",
      "iteration 400 / 500: loss 2.278217\n",
      "{(3.9999999999999998e-07, 5000000.0): (0.09893877551020408, 0.096000000000000002), (3.9999999999999998e-07, 500000.0): (0.26324489795918365, 0.27500000000000002), (3.9999999999999998e-07, 50000.0): (0.30065306122448981, 0.32400000000000001), (1.9999999999999999e-07, 500000.0): (0.25451020408163266, 0.27400000000000002), (9.9999999999999995e-08, 50000000.0): (0.10026530612244898, 0.086999999999999994), (1.9999999999999999e-07, 50000000.0): (0.10026530612244898, 0.086999999999999994), (2.9999999999999999e-07, 50000000.0): (0.10026530612244898, 0.086999999999999994), (1.9999999999999999e-07, 50000.0): (0.3092448979591837, 0.316), (1.9999999999999999e-07, 5000000.0): (0.095693877551020406, 0.089999999999999997), (3.9999999999999998e-07, 50000000.0): (0.10026530612244898, 0.086999999999999994), (4.9999999999999998e-07, 50000.0): (0.29653061224489796, 0.311), (4.9999999999999998e-07, 500000.0): (0.25253061224489798, 0.255), (9.9999999999999995e-08, 500000.0): (0.25865306122448978, 0.26600000000000001), (2.9999999999999999e-07, 50000.0): (0.31095918367346936, 0.32400000000000001), (2.9999999999999999e-07, 5000000.0): (0.091612244897959189, 0.108), (9.9999999999999995e-08, 50000.0): (0.30891836734693878, 0.32000000000000001), (9.9999999999999995e-08, 5000000.0): (0.24118367346938777, 0.248), (2.9999999999999999e-07, 500000.0): (0.24071428571428571, 0.25900000000000001)}\n",
      "iteration 0 / 500: loss 154385.430249\n",
      "iteration 100 / 500: loss inf\n",
      "iteration 200 / 500: loss inf\n",
      "iteration 300 / 500: loss inf\n",
      "iteration 400 / 500: loss inf\n",
      "{(3.9999999999999998e-07, 5000000.0): (0.09893877551020408, 0.096000000000000002), (3.9999999999999998e-07, 500000.0): (0.26324489795918365, 0.27500000000000002), (3.9999999999999998e-07, 50000.0): (0.30065306122448981, 0.32400000000000001), (1.9999999999999999e-07, 500000.0): (0.25451020408163266, 0.27400000000000002), (9.9999999999999995e-08, 50000000.0): (0.10026530612244898, 0.086999999999999994), (1.9999999999999999e-07, 50000000.0): (0.10026530612244898, 0.086999999999999994), (2.9999999999999999e-07, 50000000.0): (0.10026530612244898, 0.086999999999999994), (1.9999999999999999e-07, 50000.0): (0.3092448979591837, 0.316), (1.9999999999999999e-07, 5000000.0): (0.095693877551020406, 0.089999999999999997), (3.9999999999999998e-07, 50000000.0): (0.10026530612244898, 0.086999999999999994), (4.9999999999999998e-07, 5000000.0): (0.092204081632653062, 0.104), (4.9999999999999998e-07, 50000.0): (0.29653061224489796, 0.311), (4.9999999999999998e-07, 500000.0): (0.25253061224489798, 0.255), (9.9999999999999995e-08, 500000.0): (0.25865306122448978, 0.26600000000000001), (2.9999999999999999e-07, 50000.0): (0.31095918367346936, 0.32400000000000001), (2.9999999999999999e-07, 5000000.0): (0.091612244897959189, 0.108), (9.9999999999999995e-08, 50000.0): (0.30891836734693878, 0.32000000000000001), (9.9999999999999995e-08, 5000000.0): (0.24118367346938777, 0.248), (2.9999999999999999e-07, 500000.0): (0.24071428571428571, 0.25900000000000001)}\n",
      "iteration 0 / 500: loss 1557869.386478\n",
      "iteration 100 / 500: loss inf\n",
      "iteration 200 / 500: loss nan\n",
      "iteration 300 / 500: loss nan\n",
      "iteration 400 / 500: loss nan\n",
      "{(3.9999999999999998e-07, 5000000.0): (0.09893877551020408, 0.096000000000000002), (3.9999999999999998e-07, 500000.0): (0.26324489795918365, 0.27500000000000002), (3.9999999999999998e-07, 50000.0): (0.30065306122448981, 0.32400000000000001), (1.9999999999999999e-07, 500000.0): (0.25451020408163266, 0.27400000000000002), (9.9999999999999995e-08, 50000000.0): (0.10026530612244898, 0.086999999999999994), (1.9999999999999999e-07, 50000000.0): (0.10026530612244898, 0.086999999999999994), (2.9999999999999999e-07, 50000000.0): (0.10026530612244898, 0.086999999999999994), (1.9999999999999999e-07, 50000.0): (0.3092448979591837, 0.316), (1.9999999999999999e-07, 5000000.0): (0.095693877551020406, 0.089999999999999997), (3.9999999999999998e-07, 50000000.0): (0.10026530612244898, 0.086999999999999994), (4.9999999999999998e-07, 5000000.0): (0.092204081632653062, 0.104), (4.9999999999999998e-07, 50000000.0): (0.10026530612244898, 0.086999999999999994), (4.9999999999999998e-07, 50000.0): (0.29653061224489796, 0.311), (4.9999999999999998e-07, 500000.0): (0.25253061224489798, 0.255), (9.9999999999999995e-08, 500000.0): (0.25865306122448978, 0.26600000000000001), (2.9999999999999999e-07, 50000.0): (0.31095918367346936, 0.32400000000000001), (2.9999999999999999e-07, 5000000.0): (0.091612244897959189, 0.108), (9.9999999999999995e-08, 50000.0): (0.30891836734693878, 0.32000000000000001), (9.9999999999999995e-08, 5000000.0): (0.24118367346938777, 0.248), (2.9999999999999999e-07, 500000.0): (0.24071428571428571, 0.25900000000000001)}\n",
      "lr 1.000000e-07 reg 5.000000e+04 train accuracy: 0.308918 val accuracy: 0.320000\n",
      "lr 1.000000e-07 reg 5.000000e+05 train accuracy: 0.258653 val accuracy: 0.266000\n",
      "lr 1.000000e-07 reg 5.000000e+06 train accuracy: 0.241184 val accuracy: 0.248000\n",
      "lr 1.000000e-07 reg 5.000000e+07 train accuracy: 0.100265 val accuracy: 0.087000\n",
      "lr 2.000000e-07 reg 5.000000e+04 train accuracy: 0.309245 val accuracy: 0.316000\n",
      "lr 2.000000e-07 reg 5.000000e+05 train accuracy: 0.254510 val accuracy: 0.274000\n",
      "lr 2.000000e-07 reg 5.000000e+06 train accuracy: 0.095694 val accuracy: 0.090000\n",
      "lr 2.000000e-07 reg 5.000000e+07 train accuracy: 0.100265 val accuracy: 0.087000\n",
      "lr 3.000000e-07 reg 5.000000e+04 train accuracy: 0.310959 val accuracy: 0.324000\n",
      "lr 3.000000e-07 reg 5.000000e+05 train accuracy: 0.240714 val accuracy: 0.259000\n",
      "lr 3.000000e-07 reg 5.000000e+06 train accuracy: 0.091612 val accuracy: 0.108000\n",
      "lr 3.000000e-07 reg 5.000000e+07 train accuracy: 0.100265 val accuracy: 0.087000\n",
      "lr 4.000000e-07 reg 5.000000e+04 train accuracy: 0.300653 val accuracy: 0.324000\n",
      "lr 4.000000e-07 reg 5.000000e+05 train accuracy: 0.263245 val accuracy: 0.275000\n",
      "lr 4.000000e-07 reg 5.000000e+06 train accuracy: 0.098939 val accuracy: 0.096000\n",
      "lr 4.000000e-07 reg 5.000000e+07 train accuracy: 0.100265 val accuracy: 0.087000\n",
      "lr 5.000000e-07 reg 5.000000e+04 train accuracy: 0.296531 val accuracy: 0.311000\n",
      "lr 5.000000e-07 reg 5.000000e+05 train accuracy: 0.252531 val accuracy: 0.255000\n",
      "lr 5.000000e-07 reg 5.000000e+06 train accuracy: 0.092204 val accuracy: 0.104000\n",
      "lr 5.000000e-07 reg 5.000000e+07 train accuracy: 0.100265 val accuracy: 0.087000\n",
      "best validation accuracy achieved during cross-validation: 0.324000\n"
     ]
    }
   ],
   "source": [
    "# Use the validation set to tune hyperparameters (regularization strength and\n",
    "# learning rate). You should experiment with different ranges for the learning\n",
    "# rates and regularization strengths; if you are careful you should be able to\n",
    "# get a classification accuracy of over 0.35 on the validation set.\n",
    "from cs231n.classifiers import Softmax\n",
    "results = {}\n",
    "best_val = -1\n",
    "best_softmax = None\n",
    "learning_rates = [1e-7, 5e-7]\n",
    "regularization_strengths = [5e4, 1e8]\n",
    "from cs231n.classifiers.linear_classifier import Softmax\n",
    "for key in ((ii,jj)\n",
    "            for ii in np.linspace(learning_rates[0],learning_rates[1],5) \n",
    "                for jj in (5e4,5e5,5e6,5e7)):\n",
    "    model=Softmax()\n",
    "    model.train(X_train,y_train,learning_rate=key[0],reg=key[1],num_iters=500,verbose=True)\n",
    "    y_pred=model.predict(X_val)\n",
    "    val_acc=np.mean(y_pred==y_val)\n",
    "    train_acc=np.mean(model.predict(X_train)==y_train)\n",
    "    results[key]=(train_acc,val_acc)\n",
    "    print results\n",
    "    if val_acc>best_val:\n",
    "        best_val=val_acc\n",
    "        best_softmax=model\n",
    "        \n",
    "    \n",
    "    \n",
    "################################################################################\n",
    "# TODO:                                                                        #\n",
    "# Use the validation set to set the learning rate and regularization strength. #\n",
    "# This should be identical to the validation that you did for the SVM; save    #\n",
    "# the best trained softmax classifer in best_softmax.                          #\n",
    "################################################################################\n",
    "pass\n",
    "\n",
    "\n",
    "################################################################################\n",
    "#                              END OF YOUR CODE                                #\n",
    "################################################################################\n",
    "    \n",
    "# Print out results.\n",
    "for lr, reg in sorted(results):\n",
    "    train_accuracy, val_accuracy = results[(lr, reg)]\n",
    "    print 'lr %e reg %e train accuracy: %f val accuracy: %f' % (\n",
    "                lr, reg, train_accuracy, val_accuracy)\n",
    "    \n",
    "print 'best validation accuracy achieved during cross-validation: %f' % best_val"
   ]
  },
  {
   "cell_type": "code",
   "execution_count": 80,
   "metadata": {
    "collapsed": false
   },
   "outputs": [
    {
     "name": "stdout",
     "output_type": "stream",
     "text": [
      "softmax on raw pixels final test set accuracy: 0.324000\n"
     ]
    }
   ],
   "source": [
    "# evaluate on test set\n",
    "# Evaluate the best softmax on test set\n",
    "y_test_pred = best_softmax.predict(X_test)\n",
    "test_accuracy = np.mean(y_test == y_test_pred)\n",
    "print 'softmax on raw pixels final test set accuracy: %f' % (test_accuracy, )"
   ]
  },
  {
   "cell_type": "code",
   "execution_count": 81,
   "metadata": {
    "collapsed": false
   },
   "outputs": [
    {
     "data": {
      "image/png": "[encoded data removed]",
      "text/plain": [
       "<matplotlib.figure.Figure at 0x7f03cea75a10>"
      ]
     },
     "metadata": {},
     "output_type": "display_data"
    }
   ],
   "source": [
    "# Visualize the learned weights for each class\n",
    "w = best_softmax.W[:-1,:] # strip out the bias\n",
    "w = w.reshape(32, 32, 3, 10)\n",
    "\n",
    "w_min, w_max = np.min(w), np.max(w)\n",
    "\n",
    "classes = ['plane', 'car', 'bird', 'cat', 'deer', 'dog', 'frog', 'horse', 'ship', 'truck']\n",
    "for i in xrange(10):\n",
    "  plt.subplot(2, 5, i + 1)\n",
    "  \n",
    "  # Rescale the weights to be between 0 and 255\n",
    "  wimg = 255.0 * (w[:, :, :, i].squeeze() - w_min) / (w_max - w_min)\n",
    "  plt.imshow(wimg.astype('uint8'))\n",
    "  plt.axis('off')\n",
    "  plt.title(classes[i])"
   ]
  },
  {
   "cell_type": "code",
   "execution_count": null,
   "metadata": {
    "collapsed": true
   },
   "outputs": [],
   "source": []
  }
 ],
 "metadata": {
  "kernelspec": {
   "display_name": "Python 2",
   "language": "python",
   "name": "python2"
  },
  "language_info": {
   "codemirror_mode": {
    "name": "ipython",
    "version": 2
   },
   "file_extension": ".py",
   "mimetype": "text/x-python",
   "name": "python",
   "nbconvert_exporter": "python",
   "pygments_lexer": "ipython2",
   "version": "2.7.12"
  }
 },
 "nbformat": 4,
 "nbformat_minor": 0
}
